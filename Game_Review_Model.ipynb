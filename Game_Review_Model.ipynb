{
 "cells": [
  {
   "cell_type": "code",
   "execution_count": null,
   "metadata": {
    "colab": {
     "base_uri": "https://localhost:8080/"
    },
    "executionInfo": {
     "elapsed": 23575,
     "status": "ok",
     "timestamp": 1698289700940,
     "user": {
      "displayName": "Raimbek Nurzhigitov",
      "userId": "16902997603362318183"
     },
     "user_tz": -120
    },
    "id": "azyqaRo8VF3v",
    "outputId": "a0492871-9af8-4c4a-ab0c-0027f5a45440"
   },
   "outputs": [],
   "source": [
    "!pip install -U spacy\n",
    "!python -m spacy download en_core_web_md"
   ]
  },
  {
   "cell_type": "code",
   "execution_count": null,
   "metadata": {
    "colab": {
     "base_uri": "https://localhost:8080/"
    },
    "executionInfo": {
     "elapsed": 23981,
     "status": "ok",
     "timestamp": 1698289727333,
     "user": {
      "displayName": "Raimbek Nurzhigitov",
      "userId": "16902997603362318183"
     },
     "user_tz": -120
    },
    "id": "yi8YUEJX74GU",
    "outputId": "37daf4ef-01c0-48e5-cdf0-a4f2fd520ca1"
   },
   "outputs": [],
   "source": [
    "from google.colab import drive\n",
    "drive.mount('/content/drive')"
   ]
  },
  {
   "cell_type": "code",
   "execution_count": null,
   "metadata": {
    "executionInfo": {
     "elapsed": 232,
     "status": "ok",
     "timestamp": 1698291450820,
     "user": {
      "displayName": "Raimbek Nurzhigitov",
      "userId": "16902997603362318183"
     },
     "user_tz": -120
    },
    "id": "aIc5bCd47vyo"
   },
   "outputs": [],
   "source": [
    "import pandas as pd\n",
    "import seaborn as sns\n",
    "import spacy\n",
    "import re\n",
    "from tqdm import tqdm\n",
    "from wordcloud import WordCloud\n",
    "import matplotlib.pyplot as P\n",
    "from sklearn.feature_extraction.text import TfidfVectorizer\n",
    "from sklearn.model_selection import train_test_split\n",
    "from sklearn.naive_bayes import BernoulliNB\n",
    "from sklearn.metrics import confusion_matrix, classification_report\n",
    "\n",
    "import numpy as np\n",
    "tqdm.pandas()\n",
    "\n",
    "import tensorflow as tf\n",
    "import keras\n",
    "from keras.models import Sequential\n",
    "from keras import layers\n",
    "from tensorflow.keras.optimizers import RMSprop, Adam\n",
    "from keras.preprocessing.text import Tokenizer\n",
    "from keras import regularizers\n",
    "from keras import backend as K\n",
    "from keras.callbacks import ModelCheckpoint\n",
    "from keras.utils import pad_sequences, to_categorical"
   ]
  },
  {
   "cell_type": "code",
   "execution_count": null,
   "metadata": {},
   "outputs": [],
   "source": [
    "import jrdpackage as jrd"
   ]
  },
  {
   "cell_type": "code",
   "execution_count": null,
   "metadata": {
    "colab": {
     "base_uri": "https://localhost:8080/",
     "height": 623
    },
    "executionInfo": {
     "elapsed": 973,
     "status": "ok",
     "timestamp": 1698291454297,
     "user": {
      "displayName": "Raimbek Nurzhigitov",
      "userId": "16902997603362318183"
     },
     "user_tz": -120
    },
    "id": "5ut6U0uP7ywh",
    "outputId": "1458bcf7-40ed-4c4b-9d03-230a93b3a9d8"
   },
   "outputs": [],
   "source": [
    "names=['text', 'label']\n",
    "df = pd.read_csv('drive/MyDrive/train_dataset.csv', names=names)\n",
    "df.sample(5)\n",
    "df.info()\n",
    "df.groupby('text').nunique()\n",
    "sns.countplot(x='label',data=df)"
   ]
  },
  {
   "cell_type": "code",
   "execution_count": null,
   "metadata": {
    "colab": {
     "base_uri": "https://localhost:8080/",
     "height": 206
    },
    "executionInfo": {
     "elapsed": 707,
     "status": "ok",
     "timestamp": 1698291458072,
     "user": {
      "displayName": "Raimbek Nurzhigitov",
      "userId": "16902997603362318183"
     },
     "user_tz": -120
    },
    "id": "4YgwMhEj76kH",
    "outputId": "aba34e3d-d133-4180-ff39-f495ab50e4fd"
   },
   "outputs": [],
   "source": [
    "data=df[['text','label']]\n",
    "re_letters=re.compile(r\"[^a-zA-Z\\s']\")\n",
    "\n",
    "jrd.clean_data(data, re_letters)\n",
    "data.sample(5)"
   ]
  },
  {
   "cell_type": "code",
   "execution_count": null,
   "metadata": {
    "colab": {
     "base_uri": "https://localhost:8080/",
     "height": 224
    },
    "executionInfo": {
     "elapsed": 356384,
     "status": "ok",
     "timestamp": 1698298859603,
     "user": {
      "displayName": "Raimbek Nurzhigitov",
      "userId": "16902997603362318183"
     },
     "user_tz": -120
    },
    "id": "0gp8eVxe79Uk",
    "outputId": "13898e82-0d40-4b83-f60f-827f49733768"
   },
   "outputs": [],
   "source": [
    "nlp = spacy.load('en_core_web_md',disable=['ner', 'parser'])\n",
    "nlp.add_pipe('sentencizer')\n",
    "nlp.Defaults.stop_words.add(\"game\")\n",
    "nlp.Defaults.stop_words.add(\"play\")\n",
    "nlp.Defaults.stop_words.add(\"t\")\n",
    "\n",
    "data['text']=data['text'].apply(jrd.remove_stopwords)\n",
    "data.sample(5)\n",
    "\n",
    "data['text']=data['text'].progress_apply(jrd.lemmatize)\n",
    "data.sample(5)"
   ]
  },
  {
   "cell_type": "code",
   "execution_count": null,
   "metadata": {
    "colab": {
     "base_uri": "https://localhost:8080/",
     "height": 765
    },
    "executionInfo": {
     "elapsed": 15068,
     "status": "ok",
     "timestamp": 1698299123761,
     "user": {
      "displayName": "Raimbek Nurzhigitov",
      "userId": "16902997603362318183"
     },
     "user_tz": -120
    },
    "id": "WucRKmDO8BqM",
    "outputId": "dbc4bd2c-cfd2-4150-b6f3-105629e49245"
   },
   "outputs": [],
   "source": [
    "jrd.build_wordcloud(data, 0, 1000, 1600, 800)"
   ]
  },
  {
   "cell_type": "code",
   "execution_count": null,
   "metadata": {
    "colab": {
     "base_uri": "https://localhost:8080/",
     "height": 765
    },
    "executionInfo": {
     "elapsed": 16575,
     "status": "ok",
     "timestamp": 1698291939526,
     "user": {
      "displayName": "Raimbek Nurzhigitov",
      "userId": "16902997603362318183"
     },
     "user_tz": -120
    },
    "id": "xb8a1zPi8DqJ",
    "outputId": "dd501c4a-3a01-443a-bb2d-ca6fd01a165a"
   },
   "outputs": [],
   "source": [
    "jrd.build_wordcloud(data, 1, 1000, 1600, 800)"
   ]
  },
  {
   "cell_type": "code",
   "execution_count": null,
   "metadata": {
    "colab": {
     "base_uri": "https://localhost:8080/"
    },
    "executionInfo": {
     "elapsed": 4236,
     "status": "ok",
     "timestamp": 1698291947774,
     "user": {
      "displayName": "Raimbek Nurzhigitov",
      "userId": "16902997603362318183"
     },
     "user_tz": -120
    },
    "id": "Egy2KQWG8F7G",
    "outputId": "b9c12c6b-bcee-4f92-eca9-ac47e3173cf7"
   },
   "outputs": [],
   "source": [
    "max_words = 5000\n",
    "max_len = 500\n",
    "\n",
    "tokenizer = Tokenizer(num_words=max_words)\n",
    "tokenizer.fit_on_texts(data.text)\n",
    "sequences = tokenizer.texts_to_sequences(data.text)\n",
    "reviews = pad_sequences(sequences, maxlen=max_len)\n",
    "print(reviews)"
   ]
  },
  {
   "cell_type": "code",
   "execution_count": null,
   "metadata": {
    "executionInfo": {
     "elapsed": 307,
     "status": "ok",
     "timestamp": 1698291949946,
     "user": {
      "displayName": "Raimbek Nurzhigitov",
      "userId": "16902997603362318183"
     },
     "user_tz": -120
    },
    "id": "RKHp96cS8LR1"
   },
   "outputs": [],
   "source": [
    "labels=to_categorical(data.label,num_classes=2)"
   ]
  },
  {
   "cell_type": "code",
   "execution_count": null,
   "metadata": {
    "executionInfo": {
     "elapsed": 740,
     "status": "ok",
     "timestamp": 1698291952206,
     "user": {
      "displayName": "Raimbek Nurzhigitov",
      "userId": "16902997603362318183"
     },
     "user_tz": -120
    },
    "id": "_70gOmDR8NSB"
   },
   "outputs": [],
   "source": [
    "X_train, X_test, y_train, y_test = train_test_split(reviews, labels, test_size=0.1, stratify=labels)"
   ]
  },
  {
   "cell_type": "code",
   "execution_count": null,
   "metadata": {
    "colab": {
     "base_uri": "https://localhost:8080/"
    },
    "executionInfo": {
     "elapsed": 5574647,
     "status": "ok",
     "timestamp": 1698297528798,
     "user": {
      "displayName": "Raimbek Nurzhigitov",
      "userId": "16902997603362318183"
     },
     "user_tz": -120
    },
    "id": "CRjfW8eK8PCK",
    "outputId": "9c775404-6c86-4b85-c9b2-0ec38f789a9d"
   },
   "outputs": [],
   "source": [
    "model3 = Sequential()\n",
    "model3.add(layers.Embedding(max_words, 40, input_length=max_len))\n",
    "model3.add(layers.Bidirectional(layers.LSTM(20,dropout=0.6)))\n",
    "model3.add(layers.Dense(2,activation='softmax'))\n",
    "\n",
    "model3.compile(optimizer='rmsprop',loss='categorical_crossentropy', metrics=['accuracy'])\n",
    "\n",
    "history = model3.fit(X_train,\n",
    "                     y_train,\n",
    "                     epochs=10,\n",
    "                     validation_data=(X_test, y_test))"
   ]
  },
  {
   "cell_type": "code",
   "execution_count": null,
   "metadata": {
    "colab": {
     "base_uri": "https://localhost:8080/",
     "height": 484
    },
    "executionInfo": {
     "elapsed": 182053,
     "status": "ok",
     "timestamp": 1698298373426,
     "user": {
      "displayName": "Raimbek Nurzhigitov",
      "userId": "16902997603362318183"
     },
     "user_tz": -120
    },
    "id": "MmTVb1nP8Rs6",
    "outputId": "beda3bd2-d863-491e-b386-2bccc7d57420"
   },
   "outputs": [],
   "source": [
    "names=['text', 'label']\n",
    "df_test = pd.read_csv('drive/MyDrive/test_dataset.csv', names=names)\n",
    "data_test=df_test[['text','label']]\n",
    "clean_data(data_test, re_letters)\n",
    "data_test['text']=data_test['text'].apply(remove_stopwords)\n",
    "data_test['text']=data_test['text'].progress_apply(lemmatize)\n",
    "data_test.sample(5)\n",
    "sns.countplot(x='label',data=data_test)"
   ]
  },
  {
   "cell_type": "code",
   "execution_count": null,
   "metadata": {
    "colab": {
     "base_uri": "https://localhost:8080/"
    },
    "executionInfo": {
     "elapsed": 49113,
     "status": "ok",
     "timestamp": 1698298485102,
     "user": {
      "displayName": "Raimbek Nurzhigitov",
      "userId": "16902997603362318183"
     },
     "user_tz": -120
    },
    "id": "A3JLrTWz8TvG",
    "outputId": "165dd95d-f850-41af-8e30-216e65d4805c"
   },
   "outputs": [],
   "source": [
    "# Make predictions on new text data using the pre-trained model\n",
    "new_sequences = tokenizer.texts_to_sequences(data_test.text)\n",
    "new_data = pad_sequences(new_sequences, maxlen=max_len)\n",
    "new_predictions = model3.predict(new_data)\n",
    "\n",
    "score = 0\n",
    "print(len(data_test))\n",
    "\n",
    "# Print the predicted labels for new text data\n",
    "for i, prediction in enumerate(new_predictions):\n",
    "    if prediction[1] > prediction[0]:\n",
    "      label = 1\n",
    "    else:\n",
    "      label = 0\n",
    "\n",
    "    if (data_test.label[i] == label):\n",
    "      score = score + 1\n",
    "\n",
    "print(score)\n",
    "print(score / len(data_test))"
   ]
  }
 ],
 "metadata": {
  "colab": {
   "authorship_tag": "ABX9TyPR6yd2XBfVarg3Y5+8c75R",
   "provenance": []
  },
  "kernelspec": {
   "display_name": "Python 3 (ipykernel)",
   "language": "python",
   "name": "python3"
  },
  "language_info": {
   "codemirror_mode": {
    "name": "ipython",
    "version": 3
   },
   "file_extension": ".py",
   "mimetype": "text/x-python",
   "name": "python",
   "nbconvert_exporter": "python",
   "pygments_lexer": "ipython3",
   "version": "3.10.12"
  }
 },
 "nbformat": 4,
 "nbformat_minor": 4
}
